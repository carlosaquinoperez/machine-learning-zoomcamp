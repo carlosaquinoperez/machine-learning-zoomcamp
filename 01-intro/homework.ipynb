{
 "cells": [
  {
   "cell_type": "code",
   "execution_count": 3,
   "id": "fd5217d1-1070-4e44-bf93-3517f70f6d8b",
   "metadata": {},
   "outputs": [],
   "source": [
    "import pandas as pd\n",
    "import numpy as np"
   ]
  },
  {
   "cell_type": "code",
   "execution_count": 4,
   "id": "9df6bfa1-6090-46bb-899d-58dc37f6b188",
   "metadata": {},
   "outputs": [
    {
     "name": "stdout",
     "output_type": "stream",
     "text": [
      "Pandas version: 2.3.1\n"
     ]
    }
   ],
   "source": [
    "# Q1: pandas version\n",
    "print(\"Pandas version:\", pd.__version__)"
   ]
  },
  {
   "cell_type": "code",
   "execution_count": 5,
   "id": "5ff69a0f-c04c-4d87-8ba8-d9b9159eb4ee",
   "metadata": {},
   "outputs": [],
   "source": [
    "df = pd.read_csv(\"https://raw.githubusercontent.com/alexeygrigorev/datasets/master/car_fuel_efficiency.csv\")"
   ]
  },
  {
   "cell_type": "code",
   "execution_count": 6,
   "id": "a114a874-b8b6-417b-a6ea-7fb55454a9f8",
   "metadata": {},
   "outputs": [
    {
     "data": {
      "text/html": [
       "<div>\n",
       "<style scoped>\n",
       "    .dataframe tbody tr th:only-of-type {\n",
       "        vertical-align: middle;\n",
       "    }\n",
       "\n",
       "    .dataframe tbody tr th {\n",
       "        vertical-align: top;\n",
       "    }\n",
       "\n",
       "    .dataframe thead th {\n",
       "        text-align: right;\n",
       "    }\n",
       "</style>\n",
       "<table border=\"1\" class=\"dataframe\">\n",
       "  <thead>\n",
       "    <tr style=\"text-align: right;\">\n",
       "      <th></th>\n",
       "      <th>engine_displacement</th>\n",
       "      <th>num_cylinders</th>\n",
       "      <th>horsepower</th>\n",
       "      <th>vehicle_weight</th>\n",
       "      <th>acceleration</th>\n",
       "      <th>model_year</th>\n",
       "      <th>origin</th>\n",
       "      <th>fuel_type</th>\n",
       "      <th>drivetrain</th>\n",
       "      <th>num_doors</th>\n",
       "      <th>fuel_efficiency_mpg</th>\n",
       "    </tr>\n",
       "  </thead>\n",
       "  <tbody>\n",
       "    <tr>\n",
       "      <th>0</th>\n",
       "      <td>170</td>\n",
       "      <td>3.0</td>\n",
       "      <td>159.0</td>\n",
       "      <td>3413.433759</td>\n",
       "      <td>17.7</td>\n",
       "      <td>2003</td>\n",
       "      <td>Europe</td>\n",
       "      <td>Gasoline</td>\n",
       "      <td>All-wheel drive</td>\n",
       "      <td>0.0</td>\n",
       "      <td>13.231729</td>\n",
       "    </tr>\n",
       "    <tr>\n",
       "      <th>1</th>\n",
       "      <td>130</td>\n",
       "      <td>5.0</td>\n",
       "      <td>97.0</td>\n",
       "      <td>3149.664934</td>\n",
       "      <td>17.8</td>\n",
       "      <td>2007</td>\n",
       "      <td>USA</td>\n",
       "      <td>Gasoline</td>\n",
       "      <td>Front-wheel drive</td>\n",
       "      <td>0.0</td>\n",
       "      <td>13.688217</td>\n",
       "    </tr>\n",
       "    <tr>\n",
       "      <th>2</th>\n",
       "      <td>170</td>\n",
       "      <td>NaN</td>\n",
       "      <td>78.0</td>\n",
       "      <td>3079.038997</td>\n",
       "      <td>15.1</td>\n",
       "      <td>2018</td>\n",
       "      <td>Europe</td>\n",
       "      <td>Gasoline</td>\n",
       "      <td>Front-wheel drive</td>\n",
       "      <td>0.0</td>\n",
       "      <td>14.246341</td>\n",
       "    </tr>\n",
       "    <tr>\n",
       "      <th>3</th>\n",
       "      <td>220</td>\n",
       "      <td>4.0</td>\n",
       "      <td>NaN</td>\n",
       "      <td>2542.392402</td>\n",
       "      <td>20.2</td>\n",
       "      <td>2009</td>\n",
       "      <td>USA</td>\n",
       "      <td>Diesel</td>\n",
       "      <td>All-wheel drive</td>\n",
       "      <td>2.0</td>\n",
       "      <td>16.912736</td>\n",
       "    </tr>\n",
       "    <tr>\n",
       "      <th>4</th>\n",
       "      <td>210</td>\n",
       "      <td>1.0</td>\n",
       "      <td>140.0</td>\n",
       "      <td>3460.870990</td>\n",
       "      <td>14.4</td>\n",
       "      <td>2009</td>\n",
       "      <td>Europe</td>\n",
       "      <td>Gasoline</td>\n",
       "      <td>All-wheel drive</td>\n",
       "      <td>2.0</td>\n",
       "      <td>12.488369</td>\n",
       "    </tr>\n",
       "  </tbody>\n",
       "</table>\n",
       "</div>"
      ],
      "text/plain": [
       "   engine_displacement  num_cylinders  horsepower  vehicle_weight  \\\n",
       "0                  170            3.0       159.0     3413.433759   \n",
       "1                  130            5.0        97.0     3149.664934   \n",
       "2                  170            NaN        78.0     3079.038997   \n",
       "3                  220            4.0         NaN     2542.392402   \n",
       "4                  210            1.0       140.0     3460.870990   \n",
       "\n",
       "   acceleration  model_year  origin fuel_type         drivetrain  num_doors  \\\n",
       "0          17.7        2003  Europe  Gasoline    All-wheel drive        0.0   \n",
       "1          17.8        2007     USA  Gasoline  Front-wheel drive        0.0   \n",
       "2          15.1        2018  Europe  Gasoline  Front-wheel drive        0.0   \n",
       "3          20.2        2009     USA    Diesel    All-wheel drive        2.0   \n",
       "4          14.4        2009  Europe  Gasoline    All-wheel drive        2.0   \n",
       "\n",
       "   fuel_efficiency_mpg  \n",
       "0            13.231729  \n",
       "1            13.688217  \n",
       "2            14.246341  \n",
       "3            16.912736  \n",
       "4            12.488369  "
      ]
     },
     "execution_count": 6,
     "metadata": {},
     "output_type": "execute_result"
    }
   ],
   "source": [
    "df.head()"
   ]
  },
  {
   "cell_type": "code",
   "execution_count": 7,
   "id": "2ac3c6be-2ec6-4326-8625-4d6ebcd93174",
   "metadata": {},
   "outputs": [
    {
     "name": "stdout",
     "output_type": "stream",
     "text": [
      "Total rows: 9704\n"
     ]
    }
   ],
   "source": [
    "# Q2: How many records are in the dataset?\n",
    "total_rows = len(df)\n",
    "print(f\"Total rows:\", total_rows)"
   ]
  },
  {
   "cell_type": "code",
   "execution_count": 8,
   "id": "6f9349d3-e8ad-4165-b233-45fda0ce409c",
   "metadata": {},
   "outputs": [
    {
     "name": "stdout",
     "output_type": "stream",
     "text": [
      "Distinct fuel_type: 2\n"
     ]
    }
   ],
   "source": [
    "# Q3: How many fuel types are presented in the dataset?\n",
    "print(\"Distinct fuel_type:\", df[\"fuel_type\"].nunique())"
   ]
  },
  {
   "cell_type": "code",
   "execution_count": 9,
   "id": "cf08309c-4f96-44ba-8e9f-75f3c262a52b",
   "metadata": {},
   "outputs": [
    {
     "name": "stdout",
     "output_type": "stream",
     "text": [
      "Number of columns with missing values: 4\n"
     ]
    }
   ],
   "source": [
    "# Q4. How many columns in the dataset have missing values?\n",
    "print(\"Number of columns with missing values:\", df.isnull().any().sum())"
   ]
  },
  {
   "cell_type": "code",
   "execution_count": 10,
   "id": "e1b7dbbe-0ac4-404c-9947-3dbc082165ba",
   "metadata": {},
   "outputs": [
    {
     "name": "stdout",
     "output_type": "stream",
     "text": [
      "The maximum fuel efficiency of cars from Asia is: 23.759\n"
     ]
    }
   ],
   "source": [
    "# Q5: What's the maximum fuel efficiency of cars from Asia?\n",
    "max_eff = df.loc[df['origin'] == 'Asia', 'fuel_efficiency_mpg'].max()\n",
    "print(\"The maximum fuel efficiency of cars from Asia is:\", round(max_eff, 3))"
   ]
  },
  {
   "cell_type": "code",
   "execution_count": 11,
   "id": "176989b8-3f9d-4e87-bd55-5585f4a256e3",
   "metadata": {},
   "outputs": [
    {
     "name": "stdout",
     "output_type": "stream",
     "text": [
      "Median horsepower (before filling missing values): 149.0\n",
      "Median horsepower (after filling missing values): 152.0\n"
     ]
    }
   ],
   "source": [
    "# Q6. Median value of horsepower\n",
    "median_before = df['horsepower'].median()\n",
    "print(\"Median horsepower (before filling missing values):\", median_before)\n",
    "most_freq = df['horsepower'].mode()[0]\n",
    "df['horsepower'] = df['horsepower'].fillna(most_freq)\n",
    "median_after = df['horsepower'].median()\n",
    "print(\"Median horsepower (after filling missing values):\", median_after)"
   ]
  },
  {
   "cell_type": "code",
   "execution_count": 12,
   "id": "e68dc46a-acf8-4d95-be5d-7853b42b9b96",
   "metadata": {},
   "outputs": [
    {
     "name": "stdout",
     "output_type": "stream",
     "text": [
      "w vector:\n",
      " [[0.01386421]\n",
      " [0.5049067 ]]\n",
      "Sum of all elements of w: 0.5187709081074016\n"
     ]
    }
   ],
   "source": [
    "# Q7\n",
    "# 1) Select Asia cars, keep the two columns, take first 7 rows\n",
    "asia = (\n",
    "    df[df['origin'] == 'Asia'][['vehicle_weight', 'model_year']]\n",
    "    .dropna()\n",
    "    .head(7)\n",
    "    .astype(float)\n",
    ")\n",
    "\n",
    "# 2) Get the underlying NumPy array\n",
    "X = asia.to_numpy()  \n",
    "\n",
    "# 3) Compute X^T X\n",
    "XTX = X.T @ X \n",
    "\n",
    "# 4) Invert XTX \n",
    "try:\n",
    "    XTX_inv = np.linalg.inv(XTX)\n",
    "except np.linalg.LinAlgError:\n",
    "    XTX_inv = np.linalg.pinv(XTX)\n",
    "\n",
    "# 5) Create y\n",
    "y = np.array([1100, 1300, 800, 900, 1000, 1100, 1200], dtype=float).reshape(-1, 1)\n",
    "\n",
    "# 6) Compute w = (XTX)^(-1) X^T y\n",
    "w = XTX_inv @ X.T @ y\n",
    "\n",
    "# 7) Sum of all elements in w\n",
    "sum_w = float(w.sum())\n",
    "\n",
    "print(\"w vector:\\n\", w)\n",
    "print(\"Sum of all elements of w:\", sum_w)"
   ]
  }
 ],
 "metadata": {
  "kernelspec": {
   "display_name": "Python 3 (ipykernel)",
   "language": "python",
   "name": "python3"
  },
  "language_info": {
   "codemirror_mode": {
    "name": "ipython",
    "version": 3
   },
   "file_extension": ".py",
   "mimetype": "text/x-python",
   "name": "python",
   "nbconvert_exporter": "python",
   "pygments_lexer": "ipython3",
   "version": "3.12.1"
  }
 },
 "nbformat": 4,
 "nbformat_minor": 5
}
